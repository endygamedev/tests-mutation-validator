{
 "cells": [
  {
   "cell_type": "code",
   "execution_count": 293,
   "id": "7051c4e5-e390-46fa-826a-df28b9c0014b",
   "metadata": {},
   "outputs": [],
   "source": [
    "from ast import NodeT, parse, dump, BinOp, Add, Sub, Mult, Div, unparse\n",
    "from inspect import getsourcelines, getmodule\n",
    "from typing import Self, Any\n",
    "from random import choice\n",
    "\n",
    "from triangle_calculator import calculate_properties"
   ]
  },
  {
   "cell_type": "code",
   "execution_count": 294,
   "id": "89ce4be5-a7b7-4790-aa04-25e59212cfa2",
   "metadata": {},
   "outputs": [],
   "source": [
    "source = \"\".join(getsourcelines(calculate_properties)[0])"
   ]
  },
  {
   "cell_type": "code",
   "execution_count": 295,
   "id": "642cb3a3-491a-4b52-95ec-78c3fe8c6184",
   "metadata": {},
   "outputs": [
    {
     "name": "stdout",
     "output_type": "stream",
     "text": [
      "Module(\n",
      "    body=[\n",
      "        FunctionDef(\n",
      "            name='calculate_properties',\n",
      "            args=arguments(\n",
      "                posonlyargs=[],\n",
      "                args=[\n",
      "                    arg(\n",
      "                        arg='a',\n",
      "                        annotation=Name(id='float', ctx=Load())),\n",
      "                    arg(\n",
      "                        arg='b',\n",
      "                        annotation=Name(id='float', ctx=Load())),\n",
      "                    arg(\n",
      "                        arg='c',\n",
      "                        annotation=Name(id='float', ctx=Load()))],\n",
      "                kwonlyargs=[],\n",
      "                kw_defaults=[],\n",
      "                defaults=[]),\n",
      "            body=[\n",
      "                If(\n",
      "                    test=BoolOp(\n",
      "                        op=Or(),\n",
      "                        values=[\n",
      "                            Compare(\n",
      "                                left=BinOp(\n",
      "                                    left=Name(id='a', ctx=Load()),\n",
      "                                    op=Add(),\n",
      "                                    right=Name(id='b', ctx=Load())),\n",
      "                                ops=[\n",
      "                                    LtE()],\n",
      "                                comparators=[\n",
      "                                    Name(id='c', ctx=Load())]),\n",
      "                            Compare(\n",
      "                                left=BinOp(\n",
      "                                    left=Name(id='a', ctx=Load()),\n",
      "                                    op=Add(),\n",
      "                                    right=Name(id='c', ctx=Load())),\n",
      "                                ops=[\n",
      "                                    LtE()],\n",
      "                                comparators=[\n",
      "                                    Name(id='b', ctx=Load())]),\n",
      "                            Compare(\n",
      "                                left=BinOp(\n",
      "                                    left=Name(id='b', ctx=Load()),\n",
      "                                    op=Add(),\n",
      "                                    right=Name(id='c', ctx=Load())),\n",
      "                                ops=[\n",
      "                                    LtE()],\n",
      "                                comparators=[\n",
      "                                    Name(id='a', ctx=Load())])]),\n",
      "                    body=[\n",
      "                        Raise(\n",
      "                            exc=Call(\n",
      "                                func=Name(id='ValueError', ctx=Load()),\n",
      "                                args=[\n",
      "                                    Constant(value='Such triangle does not exists')],\n",
      "                                keywords=[]))],\n",
      "                    orelse=[]),\n",
      "                Assign(\n",
      "                    targets=[\n",
      "                        Name(id='s', ctx=Store())],\n",
      "                    value=BinOp(\n",
      "                        left=BinOp(\n",
      "                            left=BinOp(\n",
      "                                left=Name(id='a', ctx=Load()),\n",
      "                                op=Add(),\n",
      "                                right=Name(id='b', ctx=Load())),\n",
      "                            op=Add(),\n",
      "                            right=Name(id='c', ctx=Load())),\n",
      "                        op=Div(),\n",
      "                        right=Constant(value=2))),\n",
      "                Assign(\n",
      "                    targets=[\n",
      "                        Name(id='area', ctx=Store())],\n",
      "                    value=Call(\n",
      "                        func=Name(id='sqrt', ctx=Load()),\n",
      "                        args=[\n",
      "                            BinOp(\n",
      "                                left=BinOp(\n",
      "                                    left=BinOp(\n",
      "                                        left=Name(id='s', ctx=Load()),\n",
      "                                        op=Mult(),\n",
      "                                        right=BinOp(\n",
      "                                            left=Name(id='s', ctx=Load()),\n",
      "                                            op=Sub(),\n",
      "                                            right=Name(id='a', ctx=Load()))),\n",
      "                                    op=Mult(),\n",
      "                                    right=BinOp(\n",
      "                                        left=Name(id='s', ctx=Load()),\n",
      "                                        op=Sub(),\n",
      "                                        right=Name(id='b', ctx=Load()))),\n",
      "                                op=Mult(),\n",
      "                                right=BinOp(\n",
      "                                    left=Name(id='s', ctx=Load()),\n",
      "                                    op=Sub(),\n",
      "                                    right=Name(id='c', ctx=Load())))],\n",
      "                        keywords=[])),\n",
      "                Assign(\n",
      "                    targets=[\n",
      "                        Name(id='perimiter', ctx=Store())],\n",
      "                    value=BinOp(\n",
      "                        left=BinOp(\n",
      "                            left=Name(id='a', ctx=Load()),\n",
      "                            op=Add(),\n",
      "                            right=Name(id='b', ctx=Load())),\n",
      "                        op=Add(),\n",
      "                        right=Name(id='c', ctx=Load()))),\n",
      "                Assign(\n",
      "                    targets=[\n",
      "                        Name(id='inradius', ctx=Store())],\n",
      "                    value=BinOp(\n",
      "                        left=Name(id='area', ctx=Load()),\n",
      "                        op=Div(),\n",
      "                        right=Name(id='s', ctx=Load()))),\n",
      "                Assign(\n",
      "                    targets=[\n",
      "                        Name(id='circumradius', ctx=Store())],\n",
      "                    value=BinOp(\n",
      "                        left=BinOp(\n",
      "                            left=BinOp(\n",
      "                                left=Name(id='a', ctx=Load()),\n",
      "                                op=Mult(),\n",
      "                                right=Name(id='b', ctx=Load())),\n",
      "                            op=Mult(),\n",
      "                            right=Name(id='c', ctx=Load())),\n",
      "                        op=Div(),\n",
      "                        right=BinOp(\n",
      "                            left=Constant(value=4),\n",
      "                            op=Mult(),\n",
      "                            right=Name(id='area', ctx=Load())))),\n",
      "                Return(\n",
      "                    value=Call(\n",
      "                        func=Name(id='TriangleProperties', ctx=Load()),\n",
      "                        args=[],\n",
      "                        keywords=[\n",
      "                            keyword(\n",
      "                                arg='area',\n",
      "                                value=Name(id='area', ctx=Load())),\n",
      "                            keyword(\n",
      "                                arg='perimiter',\n",
      "                                value=Name(id='perimiter', ctx=Load())),\n",
      "                            keyword(\n",
      "                                arg='inradius',\n",
      "                                value=Name(id='inradius', ctx=Load())),\n",
      "                            keyword(\n",
      "                                arg='circumradius',\n",
      "                                value=Name(id='circumradius', ctx=Load()))]))],\n",
      "            decorator_list=[],\n",
      "            returns=Name(id='TriangleProperties', ctx=Load()))],\n",
      "    type_ignores=[])\n"
     ]
    }
   ],
   "source": [
    "print(dump(parse(source), indent=4))"
   ]
  },
  {
   "cell_type": "code",
   "execution_count": 363,
   "id": "7e8c84f8-ddc6-489a-87fe-e939c8a0fc5f",
   "metadata": {},
   "outputs": [],
   "source": [
    "class Mutator(NodeVisitor):\n",
    "    def __init__(self: Self) -> None:\n",
    "        self.count = 0\n",
    "        self.mutation_location = 0\n",
    "        self.operations = {Add, Sub, Mult, Div}\n",
    "        self.operation = {}\n",
    "\n",
    "    def reset(self):\n",
    "        self.count = 0\n",
    "        self.mutation_location = 0\n",
    "\n",
    "    def set_operations(self: Self) -> None:\n",
    "        self.operations = self.operations.difference({self.operation[self.mutation_location]})\n",
    "\n",
    "    def reset_operations(self):\n",
    "        self.operations = {Add, Sub, Mult, Div}\n",
    "\n",
    "    def visit_BinOp(self: Self, node: BinOp) -> Any:        \n",
    "        match node.op:\n",
    "            case Add() | Sub() | Mult() | Div():\n",
    "                self.count += 1\n",
    "                self.operation[self.count] = type(node.op)\n",
    "                if self.count == self.mutation_location:\n",
    "                    return self.visitMutation(node)\n",
    "                else:\n",
    "                    return node\n",
    "            case _:\n",
    "                return node\n",
    "\n",
    "    def visitMutation(self: Self, node: Any) -> None:\n",
    "        new_op = self.operations.pop()\n",
    "        print(f\"Old operation: {node.op}, New operation: {new_op}\")\n",
    "        return BinOp(left=node.left, op=new_op, right=node.right)"
   ]
  },
  {
   "cell_type": "code",
   "execution_count": 364,
   "id": "f5dd63aa-fbf9-4e49-b4db-33f14062342e",
   "metadata": {},
   "outputs": [
    {
     "data": {
      "text/plain": [
       "{ast.Div, ast.Mult, ast.Sub}"
      ]
     },
     "execution_count": 364,
     "metadata": {},
     "output_type": "execute_result"
    }
   ],
   "source": [
    "ops = {Add, Div, Sub, Mult}\n",
    "ops.pop()\n",
    "ops"
   ]
  },
  {
   "cell_type": "code",
   "execution_count": 371,
   "id": "ae6cbb38-2a46-45e1-b245-684603e0a81d",
   "metadata": {},
   "outputs": [
    {
     "name": "stdout",
     "output_type": "stream",
     "text": [
      "Old operation: <ast.Add object at 0x7bf91e7c8790>, New operation: <class 'ast.Add'>\n"
     ]
    },
    {
     "ename": "AttributeError",
     "evalue": "'NoneType' object has no attribute '_fields'",
     "output_type": "error",
     "traceback": [
      "\u001b[0;31m---------------------------------------------------------------------------\u001b[0m",
      "\u001b[0;31mAttributeError\u001b[0m                            Traceback (most recent call last)",
      "Cell \u001b[0;32mIn[371], line 8\u001b[0m\n\u001b[1;32m      6\u001b[0m mutator\u001b[38;5;241m.\u001b[39mmutation_location \u001b[38;5;241m=\u001b[39m \u001b[38;5;241m1\u001b[39m\n\u001b[1;32m      7\u001b[0m new_tree \u001b[38;5;241m=\u001b[39m mutator\u001b[38;5;241m.\u001b[39mvisit(tree)\n\u001b[0;32m----> 8\u001b[0m \u001b[38;5;28mprint\u001b[39m(\u001b[43munparse\u001b[49m\u001b[43m(\u001b[49m\u001b[43mnew_tree\u001b[49m\u001b[43m)\u001b[49m)\n\u001b[1;32m     10\u001b[0m \u001b[38;5;66;03m# mutants = []\u001b[39;00m\n\u001b[1;32m     11\u001b[0m \u001b[38;5;66;03m# for mutant in range(1, mutator.count + 1):\u001b[39;00m\n\u001b[1;32m     12\u001b[0m \u001b[38;5;66;03m#     mutator.reset_operations()\u001b[39;00m\n\u001b[0;32m   (...)\u001b[0m\n\u001b[1;32m     17\u001b[0m \u001b[38;5;66;03m#         new_tree = mutator.visit(tree)\u001b[39;00m\n\u001b[1;32m     18\u001b[0m \u001b[38;5;66;03m#         mutants.append(new_tree)\u001b[39;00m\n",
      "File \u001b[0;32m~/.pyenv/versions/3.11.3/lib/python3.11/ast.py:1708\u001b[0m, in \u001b[0;36munparse\u001b[0;34m(ast_obj)\u001b[0m\n\u001b[1;32m   1706\u001b[0m \u001b[38;5;28;01mdef\u001b[39;00m \u001b[38;5;21munparse\u001b[39m(ast_obj):\n\u001b[1;32m   1707\u001b[0m     unparser \u001b[38;5;241m=\u001b[39m _Unparser()\n\u001b[0;32m-> 1708\u001b[0m     \u001b[38;5;28;01mreturn\u001b[39;00m \u001b[43munparser\u001b[49m\u001b[38;5;241;43m.\u001b[39;49m\u001b[43mvisit\u001b[49m\u001b[43m(\u001b[49m\u001b[43mast_obj\u001b[49m\u001b[43m)\u001b[49m\n",
      "File \u001b[0;32m~/.pyenv/versions/3.11.3/lib/python3.11/ast.py:818\u001b[0m, in \u001b[0;36m_Unparser.visit\u001b[0;34m(self, node)\u001b[0m\n\u001b[1;32m    815\u001b[0m \u001b[38;5;250m\u001b[39m\u001b[38;5;124;03m\"\"\"Outputs a source code string that, if converted back to an ast\u001b[39;00m\n\u001b[1;32m    816\u001b[0m \u001b[38;5;124;03m(using ast.parse) will generate an AST equivalent to *node*\"\"\"\u001b[39;00m\n\u001b[1;32m    817\u001b[0m \u001b[38;5;28mself\u001b[39m\u001b[38;5;241m.\u001b[39m_source \u001b[38;5;241m=\u001b[39m []\n\u001b[0;32m--> 818\u001b[0m \u001b[38;5;28;43mself\u001b[39;49m\u001b[38;5;241;43m.\u001b[39;49m\u001b[43mtraverse\u001b[49m\u001b[43m(\u001b[49m\u001b[43mnode\u001b[49m\u001b[43m)\u001b[49m\n\u001b[1;32m    819\u001b[0m \u001b[38;5;28;01mreturn\u001b[39;00m \u001b[38;5;124m\"\u001b[39m\u001b[38;5;124m\"\u001b[39m\u001b[38;5;241m.\u001b[39mjoin(\u001b[38;5;28mself\u001b[39m\u001b[38;5;241m.\u001b[39m_source)\n",
      "File \u001b[0;32m~/.pyenv/versions/3.11.3/lib/python3.11/ast.py:809\u001b[0m, in \u001b[0;36m_Unparser.traverse\u001b[0;34m(self, node)\u001b[0m\n\u001b[1;32m    807\u001b[0m         \u001b[38;5;28mself\u001b[39m\u001b[38;5;241m.\u001b[39mtraverse(item)\n\u001b[1;32m    808\u001b[0m \u001b[38;5;28;01melse\u001b[39;00m:\n\u001b[0;32m--> 809\u001b[0m     \u001b[38;5;28;43msuper\u001b[39;49m\u001b[43m(\u001b[49m\u001b[43m)\u001b[49m\u001b[38;5;241;43m.\u001b[39;49m\u001b[43mvisit\u001b[49m\u001b[43m(\u001b[49m\u001b[43mnode\u001b[49m\u001b[43m)\u001b[49m\n",
      "File \u001b[0;32m~/.pyenv/versions/3.11.3/lib/python3.11/ast.py:418\u001b[0m, in \u001b[0;36mNodeVisitor.visit\u001b[0;34m(self, node)\u001b[0m\n\u001b[1;32m    416\u001b[0m method \u001b[38;5;241m=\u001b[39m \u001b[38;5;124m'\u001b[39m\u001b[38;5;124mvisit_\u001b[39m\u001b[38;5;124m'\u001b[39m \u001b[38;5;241m+\u001b[39m node\u001b[38;5;241m.\u001b[39m\u001b[38;5;18m__class__\u001b[39m\u001b[38;5;241m.\u001b[39m\u001b[38;5;18m__name__\u001b[39m\n\u001b[1;32m    417\u001b[0m visitor \u001b[38;5;241m=\u001b[39m \u001b[38;5;28mgetattr\u001b[39m(\u001b[38;5;28mself\u001b[39m, method, \u001b[38;5;28mself\u001b[39m\u001b[38;5;241m.\u001b[39mgeneric_visit)\n\u001b[0;32m--> 418\u001b[0m \u001b[38;5;28;01mreturn\u001b[39;00m \u001b[43mvisitor\u001b[49m\u001b[43m(\u001b[49m\u001b[43mnode\u001b[49m\u001b[43m)\u001b[49m\n",
      "File \u001b[0;32m~/.pyenv/versions/3.11.3/lib/python3.11/ast.py:422\u001b[0m, in \u001b[0;36mNodeVisitor.generic_visit\u001b[0;34m(self, node)\u001b[0m\n\u001b[1;32m    420\u001b[0m \u001b[38;5;28;01mdef\u001b[39;00m \u001b[38;5;21mgeneric_visit\u001b[39m(\u001b[38;5;28mself\u001b[39m, node):\n\u001b[1;32m    421\u001b[0m \u001b[38;5;250m    \u001b[39m\u001b[38;5;124;03m\"\"\"Called if no explicit visitor function exists for a node.\"\"\"\u001b[39;00m\n\u001b[0;32m--> 422\u001b[0m \u001b[43m    \u001b[49m\u001b[38;5;28;43;01mfor\u001b[39;49;00m\u001b[43m \u001b[49m\u001b[43mfield\u001b[49m\u001b[43m,\u001b[49m\u001b[43m \u001b[49m\u001b[43mvalue\u001b[49m\u001b[43m \u001b[49m\u001b[38;5;129;43;01min\u001b[39;49;00m\u001b[43m \u001b[49m\u001b[43miter_fields\u001b[49m\u001b[43m(\u001b[49m\u001b[43mnode\u001b[49m\u001b[43m)\u001b[49m\u001b[43m:\u001b[49m\n\u001b[1;32m    423\u001b[0m \u001b[43m        \u001b[49m\u001b[38;5;28;43;01mif\u001b[39;49;00m\u001b[43m \u001b[49m\u001b[38;5;28;43misinstance\u001b[39;49m\u001b[43m(\u001b[49m\u001b[43mvalue\u001b[49m\u001b[43m,\u001b[49m\u001b[43m \u001b[49m\u001b[38;5;28;43mlist\u001b[39;49m\u001b[43m)\u001b[49m\u001b[43m:\u001b[49m\n\u001b[1;32m    424\u001b[0m \u001b[43m            \u001b[49m\u001b[38;5;28;43;01mfor\u001b[39;49;00m\u001b[43m \u001b[49m\u001b[43mitem\u001b[49m\u001b[43m \u001b[49m\u001b[38;5;129;43;01min\u001b[39;49;00m\u001b[43m \u001b[49m\u001b[43mvalue\u001b[49m\u001b[43m:\u001b[49m\n",
      "File \u001b[0;32m~/.pyenv/versions/3.11.3/lib/python3.11/ast.py:260\u001b[0m, in \u001b[0;36miter_fields\u001b[0;34m(node)\u001b[0m\n\u001b[1;32m    255\u001b[0m \u001b[38;5;28;01mdef\u001b[39;00m \u001b[38;5;21miter_fields\u001b[39m(node):\n\u001b[1;32m    256\u001b[0m \u001b[38;5;250m    \u001b[39m\u001b[38;5;124;03m\"\"\"\u001b[39;00m\n\u001b[1;32m    257\u001b[0m \u001b[38;5;124;03m    Yield a tuple of ``(fieldname, value)`` for each field in ``node._fields``\u001b[39;00m\n\u001b[1;32m    258\u001b[0m \u001b[38;5;124;03m    that is present on *node*.\u001b[39;00m\n\u001b[1;32m    259\u001b[0m \u001b[38;5;124;03m    \"\"\"\u001b[39;00m\n\u001b[0;32m--> 260\u001b[0m     \u001b[38;5;28;01mfor\u001b[39;00m field \u001b[38;5;129;01min\u001b[39;00m \u001b[43mnode\u001b[49m\u001b[38;5;241;43m.\u001b[39;49m\u001b[43m_fields\u001b[49m:\n\u001b[1;32m    261\u001b[0m         \u001b[38;5;28;01mtry\u001b[39;00m:\n\u001b[1;32m    262\u001b[0m             \u001b[38;5;28;01myield\u001b[39;00m field, \u001b[38;5;28mgetattr\u001b[39m(node, field)\n",
      "\u001b[0;31mAttributeError\u001b[0m: 'NoneType' object has no attribute '_fields'"
     ]
    }
   ],
   "source": [
    "mutator = Mutator()\n",
    "tree = parse(source)\n",
    "mutator.visit(tree)\n",
    "\n",
    "mutator.reset()\n",
    "mutator.mutation_location = 1\n",
    "new_tree = mutator.visit(tree)\n",
    "print(unparse(new_tree))\n",
    "\n",
    "# mutants = []\n",
    "# for mutant in range(1, mutator.count + 1):\n",
    "#     mutator.reset_operations()\n",
    "#     for _ in range(len(mutator.operations) - 1):\n",
    "#         mutator.reset()\n",
    "#         mutator.mutation_location = mutant\n",
    "#         mutator.set_operations()\n",
    "#         new_tree = mutator.visit(tree)\n",
    "#         mutants.append(new_tree)"
   ]
  },
  {
   "cell_type": "code",
   "execution_count": 370,
   "id": "43f90775-0a25-4b3c-9526-f1181e807159",
   "metadata": {},
   "outputs": [
    {
     "ename": "AttributeError",
     "evalue": "'NoneType' object has no attribute '_fields'",
     "output_type": "error",
     "traceback": [
      "\u001b[0;31m---------------------------------------------------------------------------\u001b[0m",
      "\u001b[0;31mAttributeError\u001b[0m                            Traceback (most recent call last)",
      "Cell \u001b[0;32mIn[370], line 1\u001b[0m\n\u001b[0;32m----> 1\u001b[0m \u001b[38;5;28mprint\u001b[39m(\u001b[43munparse\u001b[49m\u001b[43m(\u001b[49m\u001b[43mnew_tree\u001b[49m\u001b[43m)\u001b[49m)\n",
      "File \u001b[0;32m~/.pyenv/versions/3.11.3/lib/python3.11/ast.py:1708\u001b[0m, in \u001b[0;36munparse\u001b[0;34m(ast_obj)\u001b[0m\n\u001b[1;32m   1706\u001b[0m \u001b[38;5;28;01mdef\u001b[39;00m \u001b[38;5;21munparse\u001b[39m(ast_obj):\n\u001b[1;32m   1707\u001b[0m     unparser \u001b[38;5;241m=\u001b[39m _Unparser()\n\u001b[0;32m-> 1708\u001b[0m     \u001b[38;5;28;01mreturn\u001b[39;00m \u001b[43munparser\u001b[49m\u001b[38;5;241;43m.\u001b[39;49m\u001b[43mvisit\u001b[49m\u001b[43m(\u001b[49m\u001b[43mast_obj\u001b[49m\u001b[43m)\u001b[49m\n",
      "File \u001b[0;32m~/.pyenv/versions/3.11.3/lib/python3.11/ast.py:818\u001b[0m, in \u001b[0;36m_Unparser.visit\u001b[0;34m(self, node)\u001b[0m\n\u001b[1;32m    815\u001b[0m \u001b[38;5;250m\u001b[39m\u001b[38;5;124;03m\"\"\"Outputs a source code string that, if converted back to an ast\u001b[39;00m\n\u001b[1;32m    816\u001b[0m \u001b[38;5;124;03m(using ast.parse) will generate an AST equivalent to *node*\"\"\"\u001b[39;00m\n\u001b[1;32m    817\u001b[0m \u001b[38;5;28mself\u001b[39m\u001b[38;5;241m.\u001b[39m_source \u001b[38;5;241m=\u001b[39m []\n\u001b[0;32m--> 818\u001b[0m \u001b[38;5;28;43mself\u001b[39;49m\u001b[38;5;241;43m.\u001b[39;49m\u001b[43mtraverse\u001b[49m\u001b[43m(\u001b[49m\u001b[43mnode\u001b[49m\u001b[43m)\u001b[49m\n\u001b[1;32m    819\u001b[0m \u001b[38;5;28;01mreturn\u001b[39;00m \u001b[38;5;124m\"\u001b[39m\u001b[38;5;124m\"\u001b[39m\u001b[38;5;241m.\u001b[39mjoin(\u001b[38;5;28mself\u001b[39m\u001b[38;5;241m.\u001b[39m_source)\n",
      "File \u001b[0;32m~/.pyenv/versions/3.11.3/lib/python3.11/ast.py:809\u001b[0m, in \u001b[0;36m_Unparser.traverse\u001b[0;34m(self, node)\u001b[0m\n\u001b[1;32m    807\u001b[0m         \u001b[38;5;28mself\u001b[39m\u001b[38;5;241m.\u001b[39mtraverse(item)\n\u001b[1;32m    808\u001b[0m \u001b[38;5;28;01melse\u001b[39;00m:\n\u001b[0;32m--> 809\u001b[0m     \u001b[38;5;28;43msuper\u001b[39;49m\u001b[43m(\u001b[49m\u001b[43m)\u001b[49m\u001b[38;5;241;43m.\u001b[39;49m\u001b[43mvisit\u001b[49m\u001b[43m(\u001b[49m\u001b[43mnode\u001b[49m\u001b[43m)\u001b[49m\n",
      "File \u001b[0;32m~/.pyenv/versions/3.11.3/lib/python3.11/ast.py:418\u001b[0m, in \u001b[0;36mNodeVisitor.visit\u001b[0;34m(self, node)\u001b[0m\n\u001b[1;32m    416\u001b[0m method \u001b[38;5;241m=\u001b[39m \u001b[38;5;124m'\u001b[39m\u001b[38;5;124mvisit_\u001b[39m\u001b[38;5;124m'\u001b[39m \u001b[38;5;241m+\u001b[39m node\u001b[38;5;241m.\u001b[39m\u001b[38;5;18m__class__\u001b[39m\u001b[38;5;241m.\u001b[39m\u001b[38;5;18m__name__\u001b[39m\n\u001b[1;32m    417\u001b[0m visitor \u001b[38;5;241m=\u001b[39m \u001b[38;5;28mgetattr\u001b[39m(\u001b[38;5;28mself\u001b[39m, method, \u001b[38;5;28mself\u001b[39m\u001b[38;5;241m.\u001b[39mgeneric_visit)\n\u001b[0;32m--> 418\u001b[0m \u001b[38;5;28;01mreturn\u001b[39;00m \u001b[43mvisitor\u001b[49m\u001b[43m(\u001b[49m\u001b[43mnode\u001b[49m\u001b[43m)\u001b[49m\n",
      "File \u001b[0;32m~/.pyenv/versions/3.11.3/lib/python3.11/ast.py:422\u001b[0m, in \u001b[0;36mNodeVisitor.generic_visit\u001b[0;34m(self, node)\u001b[0m\n\u001b[1;32m    420\u001b[0m \u001b[38;5;28;01mdef\u001b[39;00m \u001b[38;5;21mgeneric_visit\u001b[39m(\u001b[38;5;28mself\u001b[39m, node):\n\u001b[1;32m    421\u001b[0m \u001b[38;5;250m    \u001b[39m\u001b[38;5;124;03m\"\"\"Called if no explicit visitor function exists for a node.\"\"\"\u001b[39;00m\n\u001b[0;32m--> 422\u001b[0m \u001b[43m    \u001b[49m\u001b[38;5;28;43;01mfor\u001b[39;49;00m\u001b[43m \u001b[49m\u001b[43mfield\u001b[49m\u001b[43m,\u001b[49m\u001b[43m \u001b[49m\u001b[43mvalue\u001b[49m\u001b[43m \u001b[49m\u001b[38;5;129;43;01min\u001b[39;49;00m\u001b[43m \u001b[49m\u001b[43miter_fields\u001b[49m\u001b[43m(\u001b[49m\u001b[43mnode\u001b[49m\u001b[43m)\u001b[49m\u001b[43m:\u001b[49m\n\u001b[1;32m    423\u001b[0m \u001b[43m        \u001b[49m\u001b[38;5;28;43;01mif\u001b[39;49;00m\u001b[43m \u001b[49m\u001b[38;5;28;43misinstance\u001b[39;49m\u001b[43m(\u001b[49m\u001b[43mvalue\u001b[49m\u001b[43m,\u001b[49m\u001b[43m \u001b[49m\u001b[38;5;28;43mlist\u001b[39;49m\u001b[43m)\u001b[49m\u001b[43m:\u001b[49m\n\u001b[1;32m    424\u001b[0m \u001b[43m            \u001b[49m\u001b[38;5;28;43;01mfor\u001b[39;49;00m\u001b[43m \u001b[49m\u001b[43mitem\u001b[49m\u001b[43m \u001b[49m\u001b[38;5;129;43;01min\u001b[39;49;00m\u001b[43m \u001b[49m\u001b[43mvalue\u001b[49m\u001b[43m:\u001b[49m\n",
      "File \u001b[0;32m~/.pyenv/versions/3.11.3/lib/python3.11/ast.py:260\u001b[0m, in \u001b[0;36miter_fields\u001b[0;34m(node)\u001b[0m\n\u001b[1;32m    255\u001b[0m \u001b[38;5;28;01mdef\u001b[39;00m \u001b[38;5;21miter_fields\u001b[39m(node):\n\u001b[1;32m    256\u001b[0m \u001b[38;5;250m    \u001b[39m\u001b[38;5;124;03m\"\"\"\u001b[39;00m\n\u001b[1;32m    257\u001b[0m \u001b[38;5;124;03m    Yield a tuple of ``(fieldname, value)`` for each field in ``node._fields``\u001b[39;00m\n\u001b[1;32m    258\u001b[0m \u001b[38;5;124;03m    that is present on *node*.\u001b[39;00m\n\u001b[1;32m    259\u001b[0m \u001b[38;5;124;03m    \"\"\"\u001b[39;00m\n\u001b[0;32m--> 260\u001b[0m     \u001b[38;5;28;01mfor\u001b[39;00m field \u001b[38;5;129;01min\u001b[39;00m \u001b[43mnode\u001b[49m\u001b[38;5;241;43m.\u001b[39;49m\u001b[43m_fields\u001b[49m:\n\u001b[1;32m    261\u001b[0m         \u001b[38;5;28;01mtry\u001b[39;00m:\n\u001b[1;32m    262\u001b[0m             \u001b[38;5;28;01myield\u001b[39;00m field, \u001b[38;5;28mgetattr\u001b[39m(node, field)\n",
      "\u001b[0;31mAttributeError\u001b[0m: 'NoneType' object has no attribute '_fields'"
     ]
    }
   ],
   "source": [
    " print(unparse(new_tree))"
   ]
  },
  {
   "cell_type": "code",
   "execution_count": null,
   "id": "46f41b65-7e8d-42b5-bd37-b58074e05c8f",
   "metadata": {},
   "outputs": [],
   "source": []
  },
  {
   "cell_type": "code",
   "execution_count": null,
   "id": "63f9f4b1-d39f-400c-bef1-392a3095cbae",
   "metadata": {},
   "outputs": [],
   "source": []
  },
  {
   "cell_type": "code",
   "execution_count": null,
   "id": "648bf3ef-a44c-4c3d-b085-6d02926db1e8",
   "metadata": {},
   "outputs": [],
   "source": []
  }
 ],
 "metadata": {
  "kernelspec": {
   "display_name": "Python 3 (ipykernel)",
   "language": "python",
   "name": "python3"
  },
  "language_info": {
   "codemirror_mode": {
    "name": "ipython",
    "version": 3
   },
   "file_extension": ".py",
   "mimetype": "text/x-python",
   "name": "python",
   "nbconvert_exporter": "python",
   "pygments_lexer": "ipython3",
   "version": "3.11.3"
  }
 },
 "nbformat": 4,
 "nbformat_minor": 5
}
